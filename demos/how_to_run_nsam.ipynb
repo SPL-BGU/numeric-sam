{
 "cells": [
  {
   "metadata": {},
   "cell_type": "markdown",
   "source": [
    "# NSAM Execution demo!\n",
    "\n",
    "This code below demonstrates how to run the NSAM algorithm on a dataset.\n",
    "\n",
    "The last cell shows the result of the learning process with the PDDL domain that was learned from the trajectories."
   ],
   "id": "ac530e77aa96fb1b"
  },
  {
   "metadata": {
    "collapsed": true,
    "ExecuteTime": {
     "end_time": "2025-04-15T12:21:58.742141Z",
     "start_time": "2025-04-15T12:21:58.731167Z"
    }
   },
   "cell_type": "code",
   "outputs": [],
   "execution_count": 8,
   "source": [
    "import os\n",
    "from pathlib import Path\n",
    "from pddl_plus_parser.lisp_parsers import DomainParser, ProblemParser\n",
    "\n",
    "from sam_learning.learners import NumericSAMLearner\n",
    "\n",
    "COUNTERS_DOMAIN_PATH = Path(\"datasets/counters/counters_domain.pddl\")\n",
    "partial_domain = DomainParser(COUNTERS_DOMAIN_PATH, partial_parsing=True).parse_domain()\n",
    "\n",
    "nsam = NumericSAMLearner(partial_domain=partial_domain)"
   ],
   "id": "initial_id"
  },
  {
   "metadata": {
    "ExecuteTime": {
     "end_time": "2025-04-15T12:22:04.734517Z",
     "start_time": "2025-04-15T12:22:00.259631Z"
    }
   },
   "cell_type": "code",
   "source": [
    "from pddl_plus_parser.lisp_parsers import TrajectoryParser\n",
    "\n",
    "WORKDIR_PATH = Path(\"datasets/counters\")\n",
    "\n",
    "os.environ[\"CONVEX_HULL_ERROR_PATH\"] = str(WORKDIR_PATH / \"convex_hull_error.txt\")\n",
    "\n",
    "allowed_observations = []\n",
    "sorted_trajectory_paths = sorted(WORKDIR_PATH.glob(\"*.trajectory\"))  # for consistency\n",
    "for index, trajectory_file_path in enumerate(sorted_trajectory_paths):\n",
    "    problem_path = WORKDIR_PATH / f\"{trajectory_file_path.stem}.pddl\"\n",
    "    problem = ProblemParser(problem_path, partial_domain).parse_problem()\n",
    "    complete_observation = TrajectoryParser(partial_domain, problem).parse_trajectory(trajectory_file_path)\n",
    "    allowed_observations.append(complete_observation)\n",
    "    if len(allowed_observations) >= 10:\n",
    "        break\n",
    "\n",
    "learned_model, learning_report = nsam.learn_action_model(allowed_observations)"
   ],
   "id": "7afbdf270b35ac2c",
   "outputs": [],
   "execution_count": 9
  },
  {
   "metadata": {
    "ExecuteTime": {
     "end_time": "2025-04-15T12:22:17.879906Z",
     "start_time": "2025-04-15T12:22:17.577049Z"
    }
   },
   "cell_type": "code",
   "source": "print(learned_model.to_pddl())",
   "id": "e422a29d1c0b9794",
   "outputs": [
    {
     "name": "stdout",
     "output_type": "stream",
     "text": [
      "(define (domain fo-counters-rnd)\n",
      "(:requirements :strips :typing :equality :adl :fluents :negative-preconditions)\n",
      "(:types \tcounter - object\n",
      ")\n",
      "\n",
      "(:predicates (nop ?x - counter)\n",
      ")\n",
      "\n",
      "(:functions (value ?c - counter)\n",
      "\t(rate_value ?c - counter)\n",
      "\t(max_int )\n",
      ")\n",
      "\n",
      "(:action increment\n",
      "\t:parameters (?c - counter)\n",
      "\t:precondition (and (not (nop ?c))\n",
      "\t(<= (* (rate_value ?c) -1) -1)\n",
      "\t(<= (+ (* (rate_value ?c) -0.3714) (* (value ?c) -0.9285)) -4.2710)\n",
      "\t(<= (+ (* (rate_value ?c) 0.4472) (* (value ?c) 0.8944)) 86.7594)\n",
      "\t(<= (+ (* (rate_value ?c) 0.9975) (* (value ?c) -0.0712)) 8.9059)\n",
      "\t(<= (+ (* (value ?c) -0.1240) (* (rate_value ?c) -0.9923)) -4.3412)\n",
      "\t(<= (+ (* (value ?c) 0.0200) (* (rate_value ?c) -0.9998)) -0.1800)\n",
      "\t(<= (+ (* (value ?c) 0.2425) (* (rate_value ?c) -0.9701)) 20.1305)\n",
      "\t(<= (+ (* (value ?c) 0.6247) (* (rate_value ?c) 0.7809)) 63.4065)\n",
      "\t(<= (rate_value ?c) 10)\n",
      "\t(<= (value ?c) 95)\n",
      "\t(= (max_int ) 100))\n",
      "\t:effect (and \n",
      "(increase (value ?c) (rate_value ?c))))\n",
      "\n",
      "(:action decrement\n",
      "\t:parameters (?c - counter)\n",
      "\t:precondition (and (not (nop ?c))\n",
      "\t(<= (* (rate_value ?c) -1) -1)\n",
      "\t(<= (+ (* (rate_value ?c) -0.8000) (* (value ?c) -0.6000)) -19.2000)\n",
      "\t(<= (+ (* (rate_value ?c) -0.9899) (* (value ?c) -0.1414)) -6.9296)\n",
      "\t(<= (+ (* (rate_value ?c) 0.9285) (* (value ?c) -0.3714)) -3.3425)\n",
      "\t(<= (+ (* (value ?c) -0.0526) (* (rate_value ?c) -0.9986)) -3.8368)\n",
      "\t(<= (+ (* (value ?c) 0.0286) (* (rate_value ?c) -0.9996)) 0.8282)\n",
      "\t(<= (rate_value ?c) 10)\n",
      "\t(<= (value ?c) 99)\n",
      "\t(= (max_int ) 100))\n",
      "\t:effect (and \n",
      "(decrease (value ?c) (rate_value ?c))))\n",
      "\n",
      "(:action increase_rate\n",
      "\t:parameters (?c - counter)\n",
      "\t:precondition (and (not (nop ?c))\n",
      "\t(<= (* (rate_value ?c) -1) 0)\n",
      "\t(<= (* (value ?c) -1) -1)\n",
      "\t(<= (+ (* (rate_value ?c) 0.3162) (* (value ?c) 0.9487)) 94.2359)\n",
      "\t(<= (+ (* (rate_value ?c) 0.8000) (* (value ?c) 0.6000)) 62)\n",
      "\t(<= (+ (* (rate_value ?c) 0.9975) (* (value ?c) -0.0712)) 7.9084)\n",
      "\t(<= (+ (* (value ?c) 0.1961) (* (rate_value ?c) 0.9806)) 25.2990)\n",
      "\t(<= (rate_value ?c) 9)\n",
      "\t(<= (value ?c) 99)\n",
      "\t(= (max_int ) 100))\n",
      "\t:effect (and \n",
      "(increase (rate_value ?c) 1)))\n",
      "\n",
      "(:action decrement_rate\n",
      "\t:parameters (?c - counter)\n",
      "\t:precondition (and (not (nop ?c))\n",
      "\t(<= (* (rate_value ?c) -1) -1)\n",
      "\t(<= (+ (* (rate_value ?c) 0.9944) (* (value ?c) -0.1055)) -1.9587)\n",
      "\t(<= (+ (* (value ?c) 0.1521) (* (rate_value ?c) -0.9884)) 7.3748)\n",
      "\t(<= (value ?c) 94)\n",
      "\t(= (max_int ) 100))\n",
      "\t:effect (and \n",
      "(decrease (rate_value ?c) 1)))\n",
      "\n",
      ")\n"
     ]
    }
   ],
   "execution_count": 10
  }
 ],
 "metadata": {
  "kernelspec": {
   "display_name": "Python 3",
   "language": "python",
   "name": "python3"
  },
  "language_info": {
   "codemirror_mode": {
    "name": "ipython",
    "version": 2
   },
   "file_extension": ".py",
   "mimetype": "text/x-python",
   "name": "python",
   "nbconvert_exporter": "python",
   "pygments_lexer": "ipython2",
   "version": "2.7.6"
  }
 },
 "nbformat": 4,
 "nbformat_minor": 5
}
