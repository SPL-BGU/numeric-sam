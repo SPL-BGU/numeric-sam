{
 "cells": [
  {
   "metadata": {},
   "cell_type": "markdown",
   "source": [
    "# How to create a new dataset:\n",
    "\n",
    "This notebook demonstrates how to create a new dataset for the NSAM algorithm using the `DatasetGenerator` class.\n",
    "The next cell shows how to use the `DatasetGenerator` class to create a new dataset.\n",
    "The class expects the following parameters:\n",
    "* `problems_directory_path`: The path to the directory where the domain and problems are located.\n",
    "* `domain_file_path`: The path to the domain file.\n",
    "* `solving_timeout`: The timeout to use when running the solver algorithm.\n",
    "* `problems_prefix`: The prefix of the problem files.\n",
    "* `solver_type`: The type of solver to use. The available options are `fast_downward`, `enhsp`, and `metric_ff`.\n",
    "* `trajectory_creation_method`: The method to use for creating the trajectories. The available options are `regular` and `random`.\n",
    "\n",
    "The class then executes the selected planner and creates trajectories from the generated plans.\n",
    "Notice, to run the code below you need to have all the environment variables configured."
   ],
   "id": "f27108bd603bf5c9"
  },
  {
   "metadata": {},
   "cell_type": "code",
   "source": [
    "from pathlib import Path\n",
    "\n",
    "from utilities import SolverType\n",
    "\n",
    "from experiments.experiments_dataset_generator import DatasetGenerator\n",
    "\n",
    "generator = DatasetGenerator(\n",
    "    problems_directory_path=Path(\"demos/new_dataset_demo\"),\n",
    "    domain_file_path=Path(\"demos/new_dataset_demo/delivery_domain.pddl\"),\n",
    "    solving_timeout=60,\n",
    "    problems_prefix=\"pfile\",\n",
    "    solver_type=SolverType.enhsp,\n",
    "    trajectory_creation_method=\"regular\",)\n",
    "\n",
    "generator.generate_dataset()"
   ],
   "id": "6816eb9232461d14",
   "outputs": [],
   "execution_count": null
  },
  {
   "metadata": {},
   "cell_type": "markdown",
   "source": [
    "After running the code above, the dataset will be created in the `demos/new_dataset_demo` directory.\n",
    "\n",
    "Next you would like to create the directories for the experiments' folds."
   ],
   "id": "4b94cd8a4b23eacf"
  },
  {
   "metadata": {},
   "cell_type": "code",
   "outputs": [],
   "execution_count": null,
   "source": [
    "from experiments.concurrent_execution.folder_creation_for_parallel_execution import FoldsCreator\n",
    "\n",
    "folder_creator = FoldsCreator(\n",
    "    working_directory_path=Path(\"demos/new_dataset_demo\"),\n",
    "    domain_file_name=\"delivery_domain.pddl\",\n",
    "    learning_algorithms=[3], # 3 for NSAM\n",
    "    internal_iterations=[1, 2],\n",
    ")"
   ],
   "id": "ce0a955f8154f8a0"
  }
 ],
 "metadata": {
  "kernelspec": {
   "display_name": "Python 3",
   "language": "python",
   "name": "python3"
  },
  "language_info": {
   "codemirror_mode": {
    "name": "ipython",
    "version": 2
   },
   "file_extension": ".py",
   "mimetype": "text/x-python",
   "name": "python",
   "nbconvert_exporter": "python",
   "pygments_lexer": "ipython2",
   "version": "2.7.6"
  }
 },
 "nbformat": 4,
 "nbformat_minor": 5
}
