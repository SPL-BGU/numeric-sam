{
 "cells": [
  {
   "cell_type": "markdown",
   "metadata": {},
   "source": [
    "# Numeric SAM Demo Notebook"
   ]
  },
  {
   "cell_type": "code",
   "execution_count": 15,
   "metadata": {
    "ExecuteTime": {
     "end_time": "2023-07-18T09:16:56.554382300Z",
     "start_time": "2023-07-18T09:16:56.536375900Z"
    }
   },
   "outputs": [],
   "source": [
    "import os\n",
    "import json\n",
    "from pathlib import Path\n",
    "\n",
    "from pddl_plus_parser.lisp_parsers import DomainParser, ProblemParser, TrajectoryParser\n",
    "\n",
    "from sam_learning.numeric_sam import NumericSAMLearner\n",
    "\n",
    "os.environ[\"CONVEX_HULL_ERROR_PATH\"] = \"tests/temp_files/ch_error.txt\""
   ]
  },
  {
   "cell_type": "code",
   "execution_count": 16,
   "metadata": {
    "ExecuteTime": {
     "end_time": "2023-07-18T09:16:56.613397700Z",
     "start_time": "2023-07-18T09:16:56.551379200Z"
    }
   },
   "outputs": [],
   "source": [
    "EXAMPLES_PATH = Path(\"demos_data\")\n",
    "\n",
    "depot_partial_domain = DomainParser(EXAMPLES_PATH / \"depot_numeric.pddl\", partial_parsing=True).parse_domain()\n",
    "depot_problem = ProblemParser(EXAMPLES_PATH / \"pfile2.pddl\", domain=depot_partial_domain).parse_problem()\n",
    "depot_observation = TrajectoryParser(depot_partial_domain, depot_problem).parse_trajectory(EXAMPLES_PATH / \"test_numeric_trajectory\")"
   ]
  },
  {
   "cell_type": "code",
   "execution_count": 17,
   "metadata": {
    "ExecuteTime": {
     "end_time": "2023-07-18T09:16:56.614396800Z",
     "start_time": "2023-07-18T09:16:56.580378100Z"
    }
   },
   "outputs": [],
   "source": [
    "with open(EXAMPLES_PATH / \"depot_fluents_map.json\", \"rt\") as json_file:\n",
    "    depot_fluents_map = json.load(json_file)\n"
   ]
  },
  {
   "cell_type": "code",
   "execution_count": 18,
   "metadata": {
    "ExecuteTime": {
     "end_time": "2023-07-18T09:16:56.615396800Z",
     "start_time": "2023-07-18T09:16:56.598383Z"
    }
   },
   "outputs": [
    {
     "name": "stdout",
     "output_type": "stream",
     "text": [
      "(define (domain depot)\n",
      "(:requirements :typing :fluents :disjunctive-preconditions :negative-preconditions :equality :universal-preconditions)\n",
      "(:types \tplace locatable - object\n",
      "\tdepot distributor - place\n",
      "\ttruck hoist surface - locatable\n",
      "\tpallet crate - surface\n",
      ")\n",
      "\n",
      "(:predicates (at ?x - locatable ?y - place)\n",
      "\t(on ?x - crate ?y - surface)\n",
      "\t(in ?x - crate ?y - truck)\n",
      "\t(lifting ?x - hoist ?y - crate)\n",
      "\t(available ?x - hoist)\n",
      "\t(clear ?x - surface)\n",
      ")\n",
      "\n",
      "(:functions (load_limit ?t - truck)\n",
      "\t(current_load ?t - truck)\n",
      "\t(weight ?c - crate)\n",
      "\t(fuel-cost )\n",
      ")\n",
      "\n",
      "(:action drive\n",
      "\t:parameters (?x - truck ?y - place ?z - place)\n",
      "\t:precondition (and )\n",
      "\t:effect (and  \n",
      "\t\t))\n",
      "\n",
      "(:action lift\n",
      "\t:parameters (?x - hoist ?y - crate ?z - surface ?p - place)\n",
      "\t:precondition (and )\n",
      "\t:effect (and  \n",
      "\t\t))\n",
      "\n",
      "(:action drop\n",
      "\t:parameters (?x - hoist ?y - crate ?z - surface ?p - place)\n",
      "\t:precondition (and )\n",
      "\t:effect (and  \n",
      "\t\t))\n",
      "\n",
      "(:action load\n",
      "\t:parameters (?x - hoist ?y - crate ?z - truck ?p - place)\n",
      "\t:precondition (and )\n",
      "\t:effect (and  \n",
      "\t\t))\n",
      "\n",
      "(:action unload\n",
      "\t:parameters (?x - hoist ?y - crate ?z - truck ?p - place)\n",
      "\t:precondition (and )\n",
      "\t:effect (and  \n",
      "\t\t))\n",
      "\n",
      ")\n"
     ]
    }
   ],
   "source": [
    "numeric_sam = NumericSAMLearner(depot_partial_domain, depot_fluents_map)\n",
    "\n",
    "print(numeric_sam.partial_domain.to_pddl())"
   ]
  },
  {
   "cell_type": "code",
   "execution_count": 19,
   "metadata": {
    "ExecuteTime": {
     "end_time": "2023-07-18T09:16:56.733975200Z",
     "start_time": "2023-07-18T09:16:56.609388100Z"
    }
   },
   "outputs": [
    {
     "name": "stderr",
     "output_type": "stream",
     "text": [
      "There are too few independent rows of data! cannot solve linear equations for action - load!\n",
      "There are too few independent rows of data! cannot solve linear equations for action - unload!\n"
     ]
    },
    {
     "name": "stdout",
     "output_type": "stream",
     "text": [
      "{'drive': 'OK', 'lift': 'OK', 'drop': 'OK', 'load': 'OK', 'unload': 'OK', 'learning_time': '0.11106538772583008'}\n"
     ]
    }
   ],
   "source": [
    "learned_model, learning_metadata = numeric_sam.learn_action_model([depot_observation])\n",
    "print(learning_metadata)"
   ]
  },
  {
   "cell_type": "code",
   "execution_count": 20,
   "metadata": {
    "ExecuteTime": {
     "end_time": "2023-07-18T09:16:56.745961400Z",
     "start_time": "2023-07-18T09:16:56.730964300Z"
    }
   },
   "outputs": [
    {
     "name": "stdout",
     "output_type": "stream",
     "text": [
      "(define (domain depot)\n",
      "(:requirements :typing :fluents :disjunctive-preconditions :negative-preconditions :equality :universal-preconditions)\n",
      "(:types \tplace locatable - object\n",
      "\tdepot distributor - place\n",
      "\ttruck hoist surface - locatable\n",
      "\tpallet crate - surface\n",
      ")\n",
      "\n",
      "(:predicates (at ?x - locatable ?y - place)\n",
      "\t(on ?x - crate ?y - surface)\n",
      "\t(in ?x - crate ?y - truck)\n",
      "\t(lifting ?x - hoist ?y - crate)\n",
      "\t(available ?x - hoist)\n",
      "\t(clear ?x - surface)\n",
      ")\n",
      "\n",
      "(:functions (load_limit ?t - truck)\n",
      "\t(current_load ?t - truck)\n",
      "\t(weight ?c - crate)\n",
      "\t(fuel-cost )\n",
      ")\n",
      "\n",
      "(:action drive\n",
      "\t:parameters (?x - truck ?y - place ?z - place)\n",
      "\t:precondition (and (not (at ?x ?z))\n",
      "\t(at ?x ?y)(not (= ?y ?z)))\n",
      "\t:effect (and (at ?x ?z)\n",
      "\t\t(not (at ?x ?y))\n",
      "(increase (fuel-cost ) 10.0)))\n",
      "\n",
      "(:action lift\n",
      "\t:parameters (?x - hoist ?y - crate ?z - surface ?p - place)\n",
      "\t:precondition (and (at ?y ?p)\n",
      "\t(not (clear ?z))\n",
      "\t(on ?y ?z)\n",
      "\t(not (lifting ?x ?y))\n",
      "\t(at ?z ?p)\n",
      "\t(at ?x ?p)\n",
      "\t(clear ?y)\n",
      "\t(available ?x))\n",
      "\t:effect (and (not (at ?y ?p))\n",
      "\t\t(clear ?z)\n",
      "\t\t(not (on ?y ?z))\n",
      "\t\t(lifting ?x ?y)\n",
      "\t\t(not (clear ?y))\n",
      "\t\t(not (available ?x))\n",
      "(increase (fuel-cost ) 1.0)))\n",
      "\n",
      "(:action drop\n",
      "\t:parameters (?x - hoist ?y - crate ?z - surface ?p - place)\n",
      "\t:precondition (and (not (at ?y ?p))\n",
      "\t(clear ?z)\n",
      "\t(not (on ?y ?z))\n",
      "\t(lifting ?x ?y)\n",
      "\t(at ?z ?p)\n",
      "\t(not (clear ?y))\n",
      "\t(at ?x ?p)\n",
      "\t(not (available ?x)))\n",
      "\t:effect (and (at ?y ?p)\n",
      "\t\t(not (clear ?z))\n",
      "\t\t(on ?y ?z)\n",
      "\t\t(not (lifting ?x ?y))\n",
      "\t\t(clear ?y)\n",
      "\t\t(available ?x) \n",
      "\t\t))\n",
      "\n",
      "(:action load\n",
      "\t:parameters (?x - hoist ?y - crate ?z - truck ?p - place)\n",
      "\t:precondition (and (not (at ?y ?p))\n",
      "\t(or (and (= (current_load ?z) 32.0)\n",
      "\t(= (load_limit ?z) 390.0)\n",
      "\t(= (weight ?y) 89.0))\n",
      "\t(and (= (weight ?y) 32.0)\n",
      "\t(= (current_load ?z) 0.0)\n",
      "\t(= (load_limit ?z) 390.0))\n",
      "\t(and (= (weight ?y) 4.0)\n",
      "\t(= (current_load ?z) 121.0)\n",
      "\t(= (load_limit ?z) 390.0)))\n",
      "\t(lifting ?x ?y)\n",
      "\t(or (and (= (current_load ?z) 121.0)\n",
      "\t(= (load_limit ?z) 390.0)\n",
      "\t(= (fuel-cost ) 34.0)\n",
      "\t(= (weight ?y) 4.0))\n",
      "\t(and (= (load_limit ?z) 390.0)\n",
      "\t(= (fuel-cost ) 12.0)\n",
      "\t(= (current_load ?z) 0.0)\n",
      "\t(= (weight ?y) 32.0))\n",
      "\t(and (= (weight ?y) 89.0)\n",
      "\t(= (current_load ?z) 32.0)\n",
      "\t(= (load_limit ?z) 390.0)\n",
      "\t(= (fuel-cost ) 33.0)))\n",
      "\t(= (load_limit ?z) 390.0)\n",
      "\t(not (in ?y ?z))\n",
      "\t(not (clear ?y))\n",
      "\t(at ?x ?p)\n",
      "\t(at ?z ?p)\n",
      "\t(not (available ?x)))\n",
      "\t:effect (and (in ?y ?z)\n",
      "\t\t(not (lifting ?x ?y))\n",
      "\t\t(available ?x) \n",
      "\t\t(when (and (= (current_load ?z) 0.0)\n",
      "\t(= (fuel-cost ) 12.0)\n",
      "\t(= (load_limit ?z) 390.0)\n",
      "\t(= (weight ?y) 32.0)) (and (assign (current_load ?z) 32.0)))\t\t\n",
      "(when (and (= (load_limit ?z) 390.0)\n",
      "\t(= (current_load ?z) 32.0)\n",
      "\t(= (fuel-cost ) 33.0)\n",
      "\t(= (weight ?y) 89.0)) (and (assign (current_load ?z) 121.0)))\t\t\n",
      "(when (and (= (load_limit ?z) 390.0)\n",
      "\t(= (fuel-cost ) 34.0)\n",
      "\t(= (weight ?y) 4.0)\n",
      "\t(= (current_load ?z) 121.0)) (and (assign (current_load ?z) 125.0))) \n",
      "\t\t))\n",
      "\n",
      "(:action unload\n",
      "\t:parameters (?x - hoist ?y - crate ?z - truck ?p - place)\n",
      "\t:precondition (and (not (at ?y ?p))\n",
      "\t(or (and (= (load_limit ?z) 390.0)\n",
      "\t(= (fuel-cost ) 34.0)\n",
      "\t(= (weight ?y) 32.0)\n",
      "\t(= (current_load ?z) 125.0))\n",
      "\t(and (= (fuel-cost ) 44.0)\n",
      "\t(= (current_load ?z) 93.0)\n",
      "\t(= (weight ?y) 4.0)\n",
      "\t(= (load_limit ?z) 390.0))\n",
      "\t(and (= (current_load ?z) 89.0)\n",
      "\t(= (load_limit ?z) 390.0)\n",
      "\t(= (fuel-cost ) 54.0)\n",
      "\t(= (weight ?y) 89.0)))\n",
      "\t(not (lifting ?x ?y))\n",
      "\t(in ?y ?z)\n",
      "\t(not (clear ?y))\n",
      "\t(at ?x ?p)\n",
      "\t(at ?z ?p)\n",
      "\t(available ?x))\n",
      "\t:effect (and (not (in ?y ?z))\n",
      "\t\t(lifting ?x ?y)\n",
      "\t\t(not (available ?x)) \n",
      "\t\t(when (and (= (fuel-cost ) 34.0)\n",
      "\t(= (weight ?y) 32.0)\n",
      "\t(= (load_limit ?z) 390.0)\n",
      "\t(= (current_load ?z) 125.0)) (and (assign (current_load ?z) 93.0)))\t\t\n",
      "(when (and (= (load_limit ?z) 390.0)\n",
      "\t(= (fuel-cost ) 44.0)\n",
      "\t(= (weight ?y) 4.0)\n",
      "\t(= (current_load ?z) 93.0)) (and (assign (current_load ?z) 89.0)))\t\t\n",
      "(when (and (= (fuel-cost ) 54.0)\n",
      "\t(= (load_limit ?z) 390.0)\n",
      "\t(= (weight ?y) 89.0)\n",
      "\t(= (current_load ?z) 89.0)) (and (assign (current_load ?z) 0.0))) \n",
      "\t\t))\n",
      "\n",
      ")\n"
     ]
    }
   ],
   "source": [
    "print(learned_model.to_pddl())"
   ]
  },
  {
   "cell_type": "markdown",
   "source": [
    "## Option B - Learning from a trajectory file without input problem"
   ],
   "metadata": {
    "collapsed": false
   }
  },
  {
   "cell_type": "markdown",
   "source": [
    "Motivation - In some cases we might be able to create trajectories without having the problem file. For example, if we have a trajectory file from a real robot, we might not have the problem file that was used to generate it. In this case, we can use the `TrajectoryParser` to parse the trajectory file *without an input problem* and then use the `NumericSAM` to learn the action model."
   ],
   "metadata": {
    "collapsed": false
   }
  },
  {
   "cell_type": "code",
   "execution_count": 21,
   "outputs": [
    {
     "name": "stdout",
     "output_type": "stream",
     "text": [
      "< Domain definition: polycraft\n",
      " Requirements: [':strips', ':typing', ':negative-preconditions', ':fluents']\n",
      " Predicates: []\n",
      " Functions: ['(trees_in_map )', '(count_log_in_inventory )', '(count_planks_in_inventory )', '(count_stick_in_inventory )', '(count_sack_polyisoprene_pellets_in_inventory )', '(count_tree_tap_in_inventory )', '(count_wooden_pogo_stick_in_inventory )']\n",
      " Actions: ['get_log', 'craft_plank', 'craft_stick', 'craft_tree_tap', 'craft_wooden_pogo', 'place_tree_tap']\n",
      " Constants: [] >\n"
     ]
    }
   ],
   "source": [
    "#In this example we use trajectories generated from Minecraft simulator.\n",
    "\n",
    "minecraft_domain = DomainParser(EXAMPLES_PATH / \"basic_minecraft_domain.pddl\", partial_parsing=True).parse_domain()\n",
    "minecraft_observation = TrajectoryParser(minecraft_domain).parse_trajectory(EXAMPLES_PATH / \"basic_minecraft.trajectory\")\n",
    "\n",
    "print(minecraft_domain)"
   ],
   "metadata": {
    "collapsed": false,
    "ExecuteTime": {
     "end_time": "2023-07-18T09:16:56.831514900Z",
     "start_time": "2023-07-18T09:16:56.745961400Z"
    }
   }
  },
  {
   "cell_type": "code",
   "execution_count": 22,
   "outputs": [],
   "source": [
    "with open(EXAMPLES_PATH / \"minecraft_fluents_map.json\", \"rt\") as json_file:\n",
    "    minecraft_fluents_map = json.load(json_file)"
   ],
   "metadata": {
    "collapsed": false,
    "ExecuteTime": {
     "end_time": "2023-07-18T09:16:56.852512300Z",
     "start_time": "2023-07-18T09:16:56.761964700Z"
    }
   }
  },
  {
   "cell_type": "code",
   "execution_count": 23,
   "outputs": [
    {
     "name": "stdout",
     "output_type": "stream",
     "text": [
      "(define (domain polycraft)\n",
      "(:requirements :strips :typing :negative-preconditions :fluents :disjunctive-preconditions :equality :universal-preconditions)\n",
      "(:functions (trees_in_map )\n",
      "\t(count_log_in_inventory )\n",
      "\t(count_planks_in_inventory )\n",
      "\t(count_stick_in_inventory )\n",
      "\t(count_sack_polyisoprene_pellets_in_inventory )\n",
      "\t(count_tree_tap_in_inventory )\n",
      "\t(count_wooden_pogo_stick_in_inventory )\n",
      ")\n",
      "\n",
      "(:action get_log\n",
      "\t:parameters ()\n",
      "\t:precondition (and )\n",
      "\t:effect (and  \n",
      "\t\t))\n",
      "\n",
      "(:action craft_plank\n",
      "\t:parameters ()\n",
      "\t:precondition (and )\n",
      "\t:effect (and  \n",
      "\t\t))\n",
      "\n",
      "(:action craft_stick\n",
      "\t:parameters ()\n",
      "\t:precondition (and )\n",
      "\t:effect (and  \n",
      "\t\t))\n",
      "\n",
      "(:action craft_tree_tap\n",
      "\t:parameters ()\n",
      "\t:precondition (and )\n",
      "\t:effect (and  \n",
      "\t\t))\n",
      "\n",
      "(:action craft_wooden_pogo\n",
      "\t:parameters ()\n",
      "\t:precondition (and )\n",
      "\t:effect (and  \n",
      "\t\t))\n",
      "\n",
      "(:action place_tree_tap\n",
      "\t:parameters ()\n",
      "\t:precondition (and )\n",
      "\t:effect (and  \n",
      "\t\t))\n",
      "\n",
      ")\n"
     ]
    }
   ],
   "source": [
    "minecraft_sam = NumericSAMLearner(minecraft_domain, minecraft_fluents_map)\n",
    "\n",
    "print(minecraft_sam.partial_domain.to_pddl())"
   ],
   "metadata": {
    "collapsed": false,
    "ExecuteTime": {
     "end_time": "2023-07-18T09:16:56.853512Z",
     "start_time": "2023-07-18T09:16:56.776958900Z"
    }
   }
  },
  {
   "cell_type": "markdown",
   "source": [],
   "metadata": {
    "collapsed": false
   }
  },
  {
   "cell_type": "code",
   "execution_count": 24,
   "outputs": [
    {
     "name": "stderr",
     "output_type": "stream",
     "text": [
      "There are too few independent rows of data! cannot solve linear equations for action - get_log!\n",
      "There are too few independent rows of data! cannot solve linear equations for action - craft_plank!\n",
      "There are too few independent rows of data! cannot solve linear equations for action - craft_stick!\n"
     ]
    },
    {
     "name": "stdout",
     "output_type": "stream",
     "text": [
      "{'get_log': 'OK', 'craft_plank': 'OK', 'craft_stick': 'OK', 'craft_tree_tap': 'OK', 'craft_wooden_pogo': 'OK', 'place_tree_tap': 'OK', 'learning_time': '0.1657414436340332'}\n"
     ]
    }
   ],
   "source": [
    "learned_model, learning_metadata = minecraft_sam.learn_action_model([minecraft_observation])\n",
    "print(learning_metadata)"
   ],
   "metadata": {
    "collapsed": false,
    "ExecuteTime": {
     "end_time": "2023-07-18T09:16:56.996932900Z",
     "start_time": "2023-07-18T09:16:56.791965400Z"
    }
   }
  },
  {
   "cell_type": "code",
   "execution_count": 25,
   "outputs": [
    {
     "name": "stdout",
     "output_type": "stream",
     "text": [
      "(define (domain polycraft)\n",
      "(:requirements :strips :typing :negative-preconditions :fluents :disjunctive-preconditions :equality :universal-preconditions)\n",
      "(:functions (trees_in_map )\n",
      "\t(count_log_in_inventory )\n",
      "\t(count_planks_in_inventory )\n",
      "\t(count_stick_in_inventory )\n",
      "\t(count_sack_polyisoprene_pellets_in_inventory )\n",
      "\t(count_tree_tap_in_inventory )\n",
      "\t(count_wooden_pogo_stick_in_inventory )\n",
      ")\n",
      "\n",
      "(:action get_log\n",
      "\t:parameters ()\n",
      "\t:precondition (and (or (and (= (count_planks_in_inventory ) 0.0)\n",
      "\t(= (count_wooden_pogo_stick_in_inventory ) 0.0)\n",
      "\t(= (trees_in_map ) 2.0)\n",
      "\t(= (count_sack_polyisoprene_pellets_in_inventory ) 0.0)\n",
      "\t(= (count_tree_tap_in_inventory ) 0.0)\n",
      "\t(= (count_stick_in_inventory ) 0.0)\n",
      "\t(= (count_log_in_inventory ) 2.0))\n",
      "\t(and (= (count_tree_tap_in_inventory ) 0.0)\n",
      "\t(= (count_stick_in_inventory ) 0.0)\n",
      "\t(= (trees_in_map ) 4.0)\n",
      "\t(= (count_log_in_inventory ) 0.0)\n",
      "\t(= (count_wooden_pogo_stick_in_inventory ) 0.0)\n",
      "\t(= (count_sack_polyisoprene_pellets_in_inventory ) 0.0)\n",
      "\t(= (count_planks_in_inventory ) 0.0))\n",
      "\t(and (= (count_planks_in_inventory ) 0.0)\n",
      "\t(= (count_wooden_pogo_stick_in_inventory ) 0.0)\n",
      "\t(= (trees_in_map ) 3.0)\n",
      "\t(= (count_sack_polyisoprene_pellets_in_inventory ) 0.0)\n",
      "\t(= (count_stick_in_inventory ) 0.0)\n",
      "\t(= (count_log_in_inventory ) 1.0)\n",
      "\t(= (count_tree_tap_in_inventory ) 0.0)))\n",
      "\t(<= (trees_in_map ) 4.0)\n",
      "\t(>= (trees_in_map ) 2.0))\n",
      "\t:effect (and  \n",
      "\t\t(when (and (= (count_wooden_pogo_stick_in_inventory ) 0.0)\n",
      "\t(= (count_log_in_inventory ) 0.0)\n",
      "\t(= (count_planks_in_inventory ) 0.0)\n",
      "\t(= (count_sack_polyisoprene_pellets_in_inventory ) 0.0)\n",
      "\t(= (count_tree_tap_in_inventory ) 0.0)\n",
      "\t(= (count_stick_in_inventory ) 0.0)\n",
      "\t(= (trees_in_map ) 4.0)) (and (assign (count_log_in_inventory ) 1.0)\n",
      "\t(assign (trees_in_map ) 3.0)))\t\t\n",
      "(when (and (= (count_tree_tap_in_inventory ) 0.0)\n",
      "\t(= (count_stick_in_inventory ) 0.0)\n",
      "\t(= (count_wooden_pogo_stick_in_inventory ) 0.0)\n",
      "\t(= (count_sack_polyisoprene_pellets_in_inventory ) 0.0)\n",
      "\t(= (trees_in_map ) 3.0)\n",
      "\t(= (count_planks_in_inventory ) 0.0)\n",
      "\t(= (count_log_in_inventory ) 1.0)) (and (assign (trees_in_map ) 2.0)\n",
      "\t(assign (count_log_in_inventory ) 2.0)))\t\t\n",
      "(when (and (= (count_wooden_pogo_stick_in_inventory ) 0.0)\n",
      "\t(= (count_sack_polyisoprene_pellets_in_inventory ) 0.0)\n",
      "\t(= (count_planks_in_inventory ) 0.0)\n",
      "\t(= (trees_in_map ) 2.0)\n",
      "\t(= (count_tree_tap_in_inventory ) 0.0)\n",
      "\t(= (count_stick_in_inventory ) 0.0)\n",
      "\t(= (count_log_in_inventory ) 2.0)) (and (assign (count_log_in_inventory ) 3.0)\n",
      "\t(assign (trees_in_map ) 1.0))) \n",
      "\t\t))\n",
      "\n",
      "(:action craft_plank\n",
      "\t:parameters ()\n",
      "\t:precondition (and (or (and (= (count_wooden_pogo_stick_in_inventory ) 0.0)\n",
      "\t(= (count_sack_polyisoprene_pellets_in_inventory ) 0.0)\n",
      "\t(= (count_planks_in_inventory ) 0.0)\n",
      "\t(= (trees_in_map ) 1.0)\n",
      "\t(= (count_tree_tap_in_inventory ) 0.0)\n",
      "\t(= (count_stick_in_inventory ) 0.0)\n",
      "\t(= (count_log_in_inventory ) 3.0))\n",
      "\t(and (= (count_planks_in_inventory ) 4.0)\n",
      "\t(= (count_sack_polyisoprene_pellets_in_inventory ) 0.0)\n",
      "\t(= (count_tree_tap_in_inventory ) 0.0)\n",
      "\t(= (trees_in_map ) 1.0)\n",
      "\t(= (count_wooden_pogo_stick_in_inventory ) 0.0)\n",
      "\t(= (count_stick_in_inventory ) 0.0)\n",
      "\t(= (count_log_in_inventory ) 2.0))\n",
      "\t(and (= (count_log_in_inventory ) 1.0)\n",
      "\t(= (count_stick_in_inventory ) 0.0)\n",
      "\t(= (count_tree_tap_in_inventory ) 0.0)\n",
      "\t(= (count_sack_polyisoprene_pellets_in_inventory ) 0.0)\n",
      "\t(= (count_wooden_pogo_stick_in_inventory ) 0.0)\n",
      "\t(= (trees_in_map ) 1.0)\n",
      "\t(= (count_planks_in_inventory ) 8.0)))\n",
      "\t(>= (count_log_in_inventory ) 1.0)\n",
      "\t(<= (count_log_in_inventory ) 3.0))\n",
      "\t:effect (and  \n",
      "\t\t(when (and (= (count_stick_in_inventory ) 0.0)\n",
      "\t(= (count_log_in_inventory ) 3.0)\n",
      "\t(= (count_tree_tap_in_inventory ) 0.0)\n",
      "\t(= (count_wooden_pogo_stick_in_inventory ) 0.0)\n",
      "\t(= (trees_in_map ) 1.0)\n",
      "\t(= (count_sack_polyisoprene_pellets_in_inventory ) 0.0)\n",
      "\t(= (count_planks_in_inventory ) 0.0)) (and (assign (count_planks_in_inventory ) 4.0)\n",
      "\t(assign (count_log_in_inventory ) 2.0)))\t\t\n",
      "(when (and (= (count_planks_in_inventory ) 4.0)\n",
      "\t(= (count_wooden_pogo_stick_in_inventory ) 0.0)\n",
      "\t(= (count_sack_polyisoprene_pellets_in_inventory ) 0.0)\n",
      "\t(= (trees_in_map ) 1.0)\n",
      "\t(= (count_stick_in_inventory ) 0.0)\n",
      "\t(= (count_log_in_inventory ) 2.0)\n",
      "\t(= (count_tree_tap_in_inventory ) 0.0)) (and (assign (count_log_in_inventory ) 1.0)\n",
      "\t(assign (count_planks_in_inventory ) 8.0)))\t\t\n",
      "(when (and (= (trees_in_map ) 1.0)\n",
      "\t(= (count_sack_polyisoprene_pellets_in_inventory ) 0.0)\n",
      "\t(= (count_log_in_inventory ) 1.0)\n",
      "\t(= (count_wooden_pogo_stick_in_inventory ) 0.0)\n",
      "\t(= (count_planks_in_inventory ) 8.0)\n",
      "\t(= (count_stick_in_inventory ) 0.0)\n",
      "\t(= (count_tree_tap_in_inventory ) 0.0)) (and (assign (count_planks_in_inventory ) 12.0)\n",
      "\t(assign (count_log_in_inventory ) 0.0))) \n",
      "\t\t))\n",
      "\n",
      "(:action craft_stick\n",
      "\t:parameters ()\n",
      "\t:precondition (and (>= (count_planks_in_inventory ) 10.0)\n",
      "\t(<= (count_planks_in_inventory ) 12.0)\n",
      "\t(or (and (= (count_wooden_pogo_stick_in_inventory ) 0.0)\n",
      "\t(= (trees_in_map ) 1.0)\n",
      "\t(= (count_log_in_inventory ) 0.0)\n",
      "\t(= (count_tree_tap_in_inventory ) 0.0)\n",
      "\t(= (count_sack_polyisoprene_pellets_in_inventory ) 0.0)\n",
      "\t(= (count_planks_in_inventory ) 10.0)\n",
      "\t(= (count_stick_in_inventory ) 4.0))\n",
      "\t(and (= (count_sack_polyisoprene_pellets_in_inventory ) 0.0)\n",
      "\t(= (count_stick_in_inventory ) 0.0)\n",
      "\t(= (trees_in_map ) 1.0)\n",
      "\t(= (count_tree_tap_in_inventory ) 0.0)\n",
      "\t(= (count_planks_in_inventory ) 12.0)\n",
      "\t(= (count_log_in_inventory ) 0.0)\n",
      "\t(= (count_wooden_pogo_stick_in_inventory ) 0.0))))\n",
      "\t:effect (and  \n",
      "\t\t(when (and (= (trees_in_map ) 1.0)\n",
      "\t(= (count_stick_in_inventory ) 0.0)\n",
      "\t(= (count_planks_in_inventory ) 12.0)\n",
      "\t(= (count_log_in_inventory ) 0.0)\n",
      "\t(= (count_wooden_pogo_stick_in_inventory ) 0.0)\n",
      "\t(= (count_tree_tap_in_inventory ) 0.0)\n",
      "\t(= (count_sack_polyisoprene_pellets_in_inventory ) 0.0)) (and (assign (count_planks_in_inventory ) 10.0)\n",
      "\t(assign (count_stick_in_inventory ) 4.0)))\t\t\n",
      "(when (and (= (count_log_in_inventory ) 0.0)\n",
      "\t(= (count_tree_tap_in_inventory ) 0.0)\n",
      "\t(= (count_wooden_pogo_stick_in_inventory ) 0.0)\n",
      "\t(= (count_stick_in_inventory ) 4.0)\n",
      "\t(= (count_sack_polyisoprene_pellets_in_inventory ) 0.0)\n",
      "\t(= (count_planks_in_inventory ) 10.0)\n",
      "\t(= (trees_in_map ) 1.0)) (and (assign (count_stick_in_inventory ) 8.0)\n",
      "\t(assign (count_planks_in_inventory ) 8.0))) \n",
      "\t\t))\n",
      "\n",
      "(:action craft_tree_tap\n",
      "\t:parameters ()\n",
      "\t:precondition (and (= (trees_in_map ) 1.0)\n",
      "\t(= (count_sack_polyisoprene_pellets_in_inventory ) 0.0)\n",
      "\t(= (count_tree_tap_in_inventory ) 0.0)\n",
      "\t(= (count_planks_in_inventory ) 8.0)\n",
      "\t(= (count_log_in_inventory ) 0.0)\n",
      "\t(= (count_stick_in_inventory ) 8.0)\n",
      "\t(= (count_wooden_pogo_stick_in_inventory ) 0.0))\n",
      "\t:effect (and  \n",
      "\t\t(when (and (= (count_stick_in_inventory ) 8.0)\n",
      "\t(= (count_tree_tap_in_inventory ) 0.0)\n",
      "\t(= (count_sack_polyisoprene_pellets_in_inventory ) 0.0)\n",
      "\t(= (count_log_in_inventory ) 0.0)\n",
      "\t(= (count_wooden_pogo_stick_in_inventory ) 0.0)\n",
      "\t(= (trees_in_map ) 1.0)\n",
      "\t(= (count_planks_in_inventory ) 8.0)) (and (assign (count_stick_in_inventory ) 7.0)\n",
      "\t(assign (count_tree_tap_in_inventory ) 1.0)\n",
      "\t(assign (count_planks_in_inventory ) 3.0))) \n",
      "\t\t))\n",
      "\n",
      "(:action craft_wooden_pogo\n",
      "\t:parameters ()\n",
      "\t:precondition (and (= (count_sack_polyisoprene_pellets_in_inventory ) 1.0)\n",
      "\t(= (count_tree_tap_in_inventory ) 0.0)\n",
      "\t(= (count_stick_in_inventory ) 7.0)\n",
      "\t(= (count_log_in_inventory ) 0.0)\n",
      "\t(= (count_planks_in_inventory ) 3.0)\n",
      "\t(= (count_wooden_pogo_stick_in_inventory ) 0.0)\n",
      "\t(= (trees_in_map ) 1.0))\n",
      "\t:effect (and  \n",
      "\t\t(when (and (= (count_log_in_inventory ) 0.0)\n",
      "\t(= (trees_in_map ) 1.0)\n",
      "\t(= (count_sack_polyisoprene_pellets_in_inventory ) 1.0)\n",
      "\t(= (count_wooden_pogo_stick_in_inventory ) 0.0)\n",
      "\t(= (count_tree_tap_in_inventory ) 0.0)\n",
      "\t(= (count_stick_in_inventory ) 7.0)\n",
      "\t(= (count_planks_in_inventory ) 3.0)) (and (assign (count_stick_in_inventory ) 3.0)\n",
      "\t(assign (count_wooden_pogo_stick_in_inventory ) 1.0)\n",
      "\t(assign (count_sack_polyisoprene_pellets_in_inventory ) 0.0)\n",
      "\t(assign (count_planks_in_inventory ) 1.0))) \n",
      "\t\t))\n",
      "\n",
      "(:action place_tree_tap\n",
      "\t:parameters ()\n",
      "\t:precondition (and (= (count_stick_in_inventory ) 7.0)\n",
      "\t(= (count_tree_tap_in_inventory ) 1.0)\n",
      "\t(= (count_log_in_inventory ) 0.0)\n",
      "\t(= (count_sack_polyisoprene_pellets_in_inventory ) 0.0)\n",
      "\t(= (count_planks_in_inventory ) 3.0)\n",
      "\t(= (count_wooden_pogo_stick_in_inventory ) 0.0)\n",
      "\t(= (trees_in_map ) 1.0))\n",
      "\t:effect (and  \n",
      "\t\t(when (and (= (count_tree_tap_in_inventory ) 1.0)\n",
      "\t(= (trees_in_map ) 1.0)\n",
      "\t(= (count_wooden_pogo_stick_in_inventory ) 0.0)\n",
      "\t(= (count_planks_in_inventory ) 3.0)\n",
      "\t(= (count_log_in_inventory ) 0.0)\n",
      "\t(= (count_stick_in_inventory ) 7.0)\n",
      "\t(= (count_sack_polyisoprene_pellets_in_inventory ) 0.0)) (and (assign (count_sack_polyisoprene_pellets_in_inventory ) 1.0)\n",
      "\t(assign (count_tree_tap_in_inventory ) 0.0))) \n",
      "\t\t))\n",
      "\n",
      ")\n"
     ]
    }
   ],
   "source": [
    "print(learned_model.to_pddl())"
   ],
   "metadata": {
    "collapsed": false,
    "ExecuteTime": {
     "end_time": "2023-07-18T09:17:16.567674Z",
     "start_time": "2023-07-18T09:17:16.548674800Z"
    }
   }
  }
 ],
 "metadata": {
  "kernelspec": {
   "display_name": "Python 3 (ipykernel)",
   "language": "python",
   "name": "python3"
  },
  "language_info": {
   "codemirror_mode": {
    "name": "ipython",
    "version": 3
   },
   "file_extension": ".py",
   "mimetype": "text/x-python",
   "name": "python",
   "nbconvert_exporter": "python",
   "pygments_lexer": "ipython3",
   "version": "3.8.16"
  }
 },
 "nbformat": 4,
 "nbformat_minor": 1
}
