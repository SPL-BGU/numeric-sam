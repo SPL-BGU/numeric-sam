{
 "cells": [
  {
   "cell_type": "markdown",
   "source": [
    "# Numeric SAM Demo Notebook"
   ],
   "metadata": {
    "collapsed": false
   }
  },
  {
   "cell_type": "code",
   "execution_count": 1,
   "outputs": [],
   "source": [
    "import os\n",
    "import json\n",
    "from pathlib import Path\n",
    "\n",
    "from pddl_plus_parser.lisp_parsers import DomainParser, ProblemParser, TrajectoryParser\n",
    "\n",
    "from sam_learning.learners.numeric_sam import NumericSAMLearner\n",
    "\n",
    "os.environ[\"CONVEX_HULL_ERROR_PATH\"] = \"tests/temp_files/ch_error.txt\""
   ],
   "metadata": {
    "collapsed": false
   }
  },
  {
   "cell_type": "code",
   "execution_count": 2,
   "outputs": [],
   "source": [
    "EXAMPLES_PATH = Path(\"tests/examples/\")\n",
    "\n",
    "depot_partial_domain = DomainParser(EXAMPLES_PATH / \"depot_numeric.pddl\", partial_parsing=True).parse_domain()\n",
    "depot_problem = ProblemParser(EXAMPLES_PATH / \"pfile2.pddl\", domain=depot_partial_domain).parse_problem()\n",
    "depot_observation = TrajectoryParser(depot_partial_domain, depot_problem).parse_trajectory(EXAMPLES_PATH / \"test_numeric_trajectory\")"
   ],
   "metadata": {
    "collapsed": false
   }
  },
  {
   "cell_type": "code",
   "execution_count": 3,
   "outputs": [],
   "source": [
    "with open(EXAMPLES_PATH / \"depot_fluents_map.json\", \"rt\") as json_file:\n",
    "    depot_fluents_map = json.load(json_file)\n"
   ],
   "metadata": {
    "collapsed": false
   }
  },
  {
   "cell_type": "code",
   "execution_count": 4,
   "outputs": [
    {
     "name": "stdout",
     "output_type": "stream",
     "text": [
      "(define (domain depot)\n",
      "(:requirements :typing :fluents :disjunctive-preconditions :negative-preconditions :equality)\n",
      "(:types \tplace locatable - object\n",
      "\tdepot distributor - place\n",
      "\ttruck hoist surface - locatable\n",
      "\tpallet crate - surface\n",
      ")\n",
      "\n",
      "(:predicates (at ?x - locatable ?y - place)\n",
      "\t(on ?x - crate ?y - surface)\n",
      "\t(in ?x - crate ?y - truck)\n",
      "\t(lifting ?x - hoist ?y - crate)\n",
      "\t(available ?x - hoist)\n",
      "\t(clear ?x - surface)\n",
      ")\n",
      "\n",
      "(:functions (load_limit ?t - truck)\n",
      "\t(current_load ?t - truck)\n",
      "\t(weight ?c - crate)\n",
      "\t(fuel-cost )\n",
      ")\n",
      "\n",
      "(:action drive\n",
      "\t:parameters (?x - truck ?y - place ?z - place)\n",
      "\t:precondition (and \n",
      "\t\t\n",
      "\t\t\n",
      "\t\t)\n",
      "\t:effect (and   \n",
      "\t\t \n",
      "\t\t))\n",
      "\n",
      "(:action lift\n",
      "\t:parameters (?x - hoist ?y - crate ?z - surface ?p - place)\n",
      "\t:precondition (and \n",
      "\t\t\n",
      "\t\t\n",
      "\t\t)\n",
      "\t:effect (and   \n",
      "\t\t \n",
      "\t\t))\n",
      "\n",
      "(:action drop\n",
      "\t:parameters (?x - hoist ?y - crate ?z - surface ?p - place)\n",
      "\t:precondition (and \n",
      "\t\t\n",
      "\t\t\n",
      "\t\t)\n",
      "\t:effect (and   \n",
      "\t\t \n",
      "\t\t))\n",
      "\n",
      "(:action load\n",
      "\t:parameters (?x - hoist ?y - crate ?z - truck ?p - place)\n",
      "\t:precondition (and \n",
      "\t\t\n",
      "\t\t\n",
      "\t\t)\n",
      "\t:effect (and   \n",
      "\t\t \n",
      "\t\t))\n",
      "\n",
      "(:action unload\n",
      "\t:parameters (?x - hoist ?y - crate ?z - truck ?p - place)\n",
      "\t:precondition (and \n",
      "\t\t\n",
      "\t\t\n",
      "\t\t)\n",
      "\t:effect (and   \n",
      "\t\t \n",
      "\t\t))\n",
      "\n",
      ")\n"
     ]
    }
   ],
   "source": [
    "numeric_sam = NumericSAMLearner(depot_partial_domain, depot_fluents_map)\n",
    "\n",
    "print(numeric_sam.partial_domain.to_pddl())"
   ],
   "metadata": {
    "collapsed": false
   }
  },
  {
   "cell_type": "code",
   "execution_count": 5,
   "outputs": [
    {
     "name": "stderr",
     "output_type": "stream",
     "text": [
      "Cannot solve linear equations when too little input equations given for action - load.\n",
      "Cannot solve linear equations when too little input equations given for action - unload.\n"
     ]
    },
    {
     "name": "stdout",
     "output_type": "stream",
     "text": [
      "{'drive': 'OK', 'lift': 'OK', 'drop': 'OK', 'load': 'not_enough_data', 'unload': 'not_enough_data'}\n"
     ]
    }
   ],
   "source": [
    "learned_model, learning_metadata = numeric_sam.learn_action_model([depot_observation])\n",
    "print(learning_metadata)"
   ],
   "metadata": {
    "collapsed": false
   }
  },
  {
   "cell_type": "code",
   "execution_count": 6,
   "outputs": [
    {
     "name": "stdout",
     "output_type": "stream",
     "text": [
      "(define (domain depot)\n",
      "(:requirements :typing :fluents :disjunctive-preconditions :negative-preconditions :equality)\n",
      "(:types \tplace locatable - object\n",
      "\tdepot distributor - place\n",
      "\ttruck hoist surface - locatable\n",
      "\tpallet crate - surface\n",
      ")\n",
      "\n",
      "(:predicates (at ?x - locatable ?y - place)\n",
      "\t(on ?x - crate ?y - surface)\n",
      "\t(in ?x - crate ?y - truck)\n",
      "\t(lifting ?x - hoist ?y - crate)\n",
      "\t(available ?x - hoist)\n",
      "\t(clear ?x - surface)\n",
      ")\n",
      "\n",
      "(:functions (load_limit ?t - truck)\n",
      "\t(current_load ?t - truck)\n",
      "\t(weight ?c - crate)\n",
      "\t(fuel-cost )\n",
      ")\n",
      "\n",
      "(:action drive\n",
      "\t:parameters (?x - truck ?y - place ?z - place)\n",
      "\t:precondition (and (at ?x ?y)\n",
      "\t\t\n",
      "\t\t(not (= ?y ?z))\n",
      "\n",
      "\t\t)\n",
      "\t:effect (and (at ?x ?z) (not (at ?x ?y))\n",
      "\t\t\n",
      "\t\t\n",
      "\t\t\n",
      "\t\t\n",
      "(increase (fuel-cost ) 10.0)))\n",
      "\n",
      "(:action lift\n",
      "\t:parameters (?x - hoist ?y - crate ?z - surface ?p - place)\n",
      "\t:precondition (and (at ?x ?p)\t\t\n",
      "(on ?y ?z)\t\t\n",
      "(clear ?y)\t\t\n",
      "(at ?y ?p)\t\t\n",
      "(available ?x)\t\t\n",
      "(at ?z ?p)\n",
      "\t\t\n",
      "\t\t\n",
      "\t\t)\n",
      "\t:effect (and (clear ?z)\n",
      "\t\t(lifting ?x ?y) (not (at ?y ?p))\n",
      "\t\t(not (clear ?y))\n",
      "\t\t(not (available ?x))\n",
      "\t\t(not (on ?y ?z))\n",
      "\t\t\n",
      "\t\t\n",
      "\t\t\n",
      "\t\t\n",
      "(increase (fuel-cost ) 1.0)))\n",
      "\n",
      "(:action drop\n",
      "\t:parameters (?x - hoist ?y - crate ?z - surface ?p - place)\n",
      "\t:precondition (and (clear ?z)\t\t\n",
      "(at ?x ?p)\t\t\n",
      "(lifting ?x ?y)\t\t\n",
      "(at ?z ?p)\n",
      "\t\t\n",
      "\t\t\n",
      "\t\t)\n",
      "\t:effect (and (at ?y ?p)\n",
      "\t\t(clear ?y)\n",
      "\t\t(available ?x)\n",
      "\t\t(on ?y ?z) (not (clear ?z))\n",
      "\t\t(not (lifting ?x ?y)) \n",
      "\t\t \n",
      "\t\t))\n",
      "\n",
      ")\n"
     ]
    }
   ],
   "source": [
    "print(learned_model.to_pddl())"
   ],
   "metadata": {
    "collapsed": false
   }
  }
 ],
 "metadata": {
  "kernelspec": {
   "display_name": "Python 3",
   "language": "python",
   "name": "python3"
  },
  "language_info": {
   "codemirror_mode": {
    "name": "ipython",
    "version": 2
   },
   "file_extension": ".py",
   "mimetype": "text/x-python",
   "name": "python",
   "nbconvert_exporter": "python",
   "pygments_lexer": "ipython2",
   "version": "2.7.6"
  }
 },
 "nbformat": 4,
 "nbformat_minor": 0
}
