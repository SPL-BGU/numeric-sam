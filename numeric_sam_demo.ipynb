{
 "cells": [
  {
   "cell_type": "markdown",
   "metadata": {},
   "source": [
    "# Numeric SAM Demo Notebook"
   ]
  },
  {
   "cell_type": "code",
   "execution_count": 2,
   "metadata": {
    "ExecuteTime": {
     "end_time": "2023-06-12T13:07:06.401505400Z",
     "start_time": "2023-06-12T13:07:05.518901800Z"
    }
   },
   "outputs": [],
   "source": [
    "import os\n",
    "import json\n",
    "from pathlib import Path\n",
    "\n",
    "from pddl_plus_parser.lisp_parsers import DomainParser, ProblemParser, TrajectoryParser\n",
    "\n",
    "from sam_learning.numeric_sam import NumericSAMLearner\n",
    "\n",
    "os.environ[\"CONVEX_HULL_ERROR_PATH\"] = \"tests/temp_files/ch_error.txt\""
   ]
  },
  {
   "cell_type": "code",
   "execution_count": 3,
   "metadata": {
    "ExecuteTime": {
     "end_time": "2023-06-12T13:07:06.448031700Z",
     "start_time": "2023-06-12T13:07:06.403501800Z"
    }
   },
   "outputs": [],
   "source": [
    "EXAMPLES_PATH = Path(\"demos_data\")\n",
    "\n",
    "depot_partial_domain = DomainParser(EXAMPLES_PATH / \"depot_numeric.pddl\", partial_parsing=True).parse_domain()\n",
    "depot_problem = ProblemParser(EXAMPLES_PATH / \"pfile2.pddl\", domain=depot_partial_domain).parse_problem()\n",
    "depot_observation = TrajectoryParser(depot_partial_domain, depot_problem).parse_trajectory(EXAMPLES_PATH / \"test_numeric_trajectory\")"
   ]
  },
  {
   "cell_type": "code",
   "execution_count": 4,
   "metadata": {
    "ExecuteTime": {
     "end_time": "2023-06-12T13:07:06.452026600Z",
     "start_time": "2023-06-12T13:07:06.435027700Z"
    }
   },
   "outputs": [],
   "source": [
    "with open(EXAMPLES_PATH / \"depot_fluents_map.json\", \"rt\") as json_file:\n",
    "    depot_fluents_map = json.load(json_file)\n"
   ]
  },
  {
   "cell_type": "code",
   "execution_count": 5,
   "metadata": {
    "ExecuteTime": {
     "end_time": "2023-06-12T13:07:06.467018400Z",
     "start_time": "2023-06-12T13:07:06.454020700Z"
    }
   },
   "outputs": [
    {
     "name": "stdout",
     "output_type": "stream",
     "text": [
      "(define (domain depot)\n",
      "(:requirements :typing :fluents :disjunctive-preconditions :negative-preconditions :equality :universal-preconditions)\n",
      "(:types \tplace locatable - object\n",
      "\tdepot distributor - place\n",
      "\ttruck hoist surface - locatable\n",
      "\tpallet crate - surface\n",
      ")\n",
      "\n",
      "(:predicates (at ?x - locatable ?y - place)\n",
      "\t(on ?x - crate ?y - surface)\n",
      "\t(in ?x - crate ?y - truck)\n",
      "\t(lifting ?x - hoist ?y - crate)\n",
      "\t(available ?x - hoist)\n",
      "\t(clear ?x - surface)\n",
      ")\n",
      "\n",
      "(:functions (load_limit ?t - truck)\n",
      "\t(current_load ?t - truck)\n",
      "\t(weight ?c - crate)\n",
      "\t(fuel-cost )\n",
      ")\n",
      "\n",
      "(:action drive\n",
      "\t:parameters (?x - truck ?y - place ?z - place)\n",
      "\t:precondition (and )\n",
      "\t:effect (and  \n",
      "\t\t))\n",
      "\n",
      "(:action lift\n",
      "\t:parameters (?x - hoist ?y - crate ?z - surface ?p - place)\n",
      "\t:precondition (and )\n",
      "\t:effect (and  \n",
      "\t\t))\n",
      "\n",
      "(:action drop\n",
      "\t:parameters (?x - hoist ?y - crate ?z - surface ?p - place)\n",
      "\t:precondition (and )\n",
      "\t:effect (and  \n",
      "\t\t))\n",
      "\n",
      "(:action load\n",
      "\t:parameters (?x - hoist ?y - crate ?z - truck ?p - place)\n",
      "\t:precondition (and )\n",
      "\t:effect (and  \n",
      "\t\t))\n",
      "\n",
      "(:action unload\n",
      "\t:parameters (?x - hoist ?y - crate ?z - truck ?p - place)\n",
      "\t:precondition (and )\n",
      "\t:effect (and  \n",
      "\t\t))\n",
      "\n",
      ")\n"
     ]
    }
   ],
   "source": [
    "numeric_sam = NumericSAMLearner(depot_partial_domain, depot_fluents_map)\n",
    "\n",
    "print(numeric_sam.partial_domain.to_pddl())"
   ]
  },
  {
   "cell_type": "code",
   "execution_count": 6,
   "metadata": {
    "ExecuteTime": {
     "end_time": "2023-06-12T13:07:06.716366100Z",
     "start_time": "2023-06-12T13:07:06.606245700Z"
    }
   },
   "outputs": [
    {
     "name": "stderr",
     "output_type": "stream",
     "text": [
      "There are too few independent rows of data! cannot solve linear equations for action - load!\n",
      "There are too few independent rows of data! cannot solve linear equations for action - unload!\n"
     ]
    },
    {
     "name": "stdout",
     "output_type": "stream",
     "text": [
      "{'drive': 'OK', 'lift': 'OK', 'drop': 'OK', 'load': 'OK', 'unload': 'OK', 'learning_time': '0.24134302139282227'}\n"
     ]
    }
   ],
   "source": [
    "learned_model, learning_metadata = numeric_sam.learn_action_model([depot_observation])\n",
    "print(learning_metadata)"
   ]
  },
  {
   "cell_type": "code",
   "execution_count": 7,
   "metadata": {
    "ExecuteTime": {
     "end_time": "2023-06-12T13:07:06.791612400Z",
     "start_time": "2023-06-12T13:07:06.718367700Z"
    }
   },
   "outputs": [
    {
     "name": "stdout",
     "output_type": "stream",
     "text": [
      "(define (domain depot)\n",
      "(:requirements :typing :fluents :disjunctive-preconditions :negative-preconditions :equality :universal-preconditions)\n",
      "(:types \tplace locatable - object\n",
      "\tdepot distributor - place\n",
      "\ttruck hoist surface - locatable\n",
      "\tpallet crate - surface\n",
      ")\n",
      "\n",
      "(:predicates (at ?x - locatable ?y - place)\n",
      "\t(on ?x - crate ?y - surface)\n",
      "\t(in ?x - crate ?y - truck)\n",
      "\t(lifting ?x - hoist ?y - crate)\n",
      "\t(available ?x - hoist)\n",
      "\t(clear ?x - surface)\n",
      ")\n",
      "\n",
      "(:functions (load_limit ?t - truck)\n",
      "\t(current_load ?t - truck)\n",
      "\t(weight ?c - crate)\n",
      "\t(fuel-cost )\n",
      ")\n",
      "\n",
      "(:action drive\n",
      "\t:parameters (?x - truck ?y - place ?z - place)\n",
      "\t:precondition (and (at ?x ?y)\n",
      "\t(not (at ?x ?z))(not (= ?y ?z)))\n",
      "\t:effect (and (not (at ?x ?y))\n",
      "\t\t(at ?x ?z)\n",
      "(increase (fuel-cost ) 10.0)))\n",
      "\n",
      "(:action lift\n",
      "\t:parameters (?x - hoist ?y - crate ?z - surface ?p - place)\n",
      "\t:precondition (and (at ?z ?p)\n",
      "\t(not (clear ?z))\n",
      "\t(clear ?y)\n",
      "\t(available ?x)\n",
      "\t(at ?x ?p)\n",
      "\t(at ?y ?p)\n",
      "\t(not (lifting ?x ?y))\n",
      "\t(on ?y ?z))\n",
      "\t:effect (and (not (available ?x))\n",
      "\t\t(clear ?z)\n",
      "\t\t(not (clear ?y))\n",
      "\t\t(not (at ?y ?p))\n",
      "\t\t(lifting ?x ?y)\n",
      "\t\t(not (on ?y ?z))\n",
      "(increase (fuel-cost ) 1.0)))\n",
      "\n",
      "(:action drop\n",
      "\t:parameters (?x - hoist ?y - crate ?z - surface ?p - place)\n",
      "\t:precondition (and (at ?z ?p)\n",
      "\t(not (available ?x))\n",
      "\t(not (clear ?y))\n",
      "\t(clear ?z)\n",
      "\t(at ?x ?p)\n",
      "\t(not (at ?y ?p))\n",
      "\t(lifting ?x ?y)\n",
      "\t(not (on ?y ?z)))\n",
      "\t:effect (and (not (clear ?z))\n",
      "\t\t(available ?x)\n",
      "\t\t(clear ?y)\n",
      "\t\t(at ?y ?p)\n",
      "\t\t(not (lifting ?x ?y))\n",
      "\t\t(on ?y ?z) \n",
      "\t\t))\n",
      "\n",
      "(:action load\n",
      "\t:parameters (?x - hoist ?y - crate ?z - truck ?p - place)\n",
      "\t:precondition (and (not (available ?x))\n",
      "\t(not (clear ?y))\n",
      "\t(at ?x ?p)\n",
      "\t(not (in ?y ?z))\n",
      "\t(not (at ?y ?p))\n",
      "\t(lifting ?x ?y)\n",
      "\t(at ?z ?p)\n",
      "\t(or (and (= (weight ?y) 32.0)\n",
      "\t(= (load_limit ?z) 390.0)\n",
      "\t(= (current_load ?z) 0.0))\n",
      "\t(and (= (weight ?y) 89.0)\n",
      "\t(= (load_limit ?z) 390.0)\n",
      "\t(= (current_load ?z) 32.0))\n",
      "\t(and (= (current_load ?z) 121.0)\n",
      "\t(= (load_limit ?z) 390.0)\n",
      "\t(= (weight ?y) 4.0)))\n",
      "\t(or (and (= (load_limit ?z) 390.0)\n",
      "\t(= (weight ?y) 32.0)\n",
      "\t(= (current_load ?z) 0.0)\n",
      "\t(= (fuel-cost ) 12.0))\n",
      "\t(and (= (current_load ?z) 32.0)\n",
      "\t(= (fuel-cost ) 33.0)\n",
      "\t(= (load_limit ?z) 390.0)\n",
      "\t(= (weight ?y) 89.0))\n",
      "\t(and (= (load_limit ?z) 390.0)\n",
      "\t(= (fuel-cost ) 34.0)\n",
      "\t(= (weight ?y) 4.0)\n",
      "\t(= (current_load ?z) 121.0))))\n",
      "\t:effect (and (in ?y ?z)\n",
      "\t\t(not (lifting ?x ?y))\n",
      "\t\t(available ?x) \n",
      "\t\t(when (and (= (weight ?y) 32.0)\n",
      "\t(= (fuel-cost ) 12.0)\n",
      "\t(= (load_limit ?z) 390.0)\n",
      "\t(= (current_load ?z) 0.0)) (and (assign (current_load ?z) 32.0)))\t\t\n",
      "(when (and (= (load_limit ?z) 390.0)\n",
      "\t(= (fuel-cost ) 33.0)\n",
      "\t(= (weight ?y) 89.0)\n",
      "\t(= (current_load ?z) 32.0)) (and (assign (current_load ?z) 121.0)))\t\t\n",
      "(when (and (= (fuel-cost ) 34.0)\n",
      "\t(= (weight ?y) 4.0)\n",
      "\t(= (current_load ?z) 121.0)\n",
      "\t(= (load_limit ?z) 390.0)) (and (assign (current_load ?z) 125.0))) \n",
      "\t\t))\n",
      "\n",
      "(:action unload\n",
      "\t:parameters (?x - hoist ?y - crate ?z - truck ?p - place)\n",
      "\t:precondition (and (or (and (= (fuel-cost ) 44.0)\n",
      "\t(= (weight ?y) 4.0)\n",
      "\t(= (current_load ?z) 93.0)\n",
      "\t(= (load_limit ?z) 390.0))\n",
      "\t(and (= (current_load ?z) 89.0)\n",
      "\t(= (load_limit ?z) 390.0)\n",
      "\t(= (fuel-cost ) 54.0)\n",
      "\t(= (weight ?y) 89.0))\n",
      "\t(and (= (load_limit ?z) 390.0)\n",
      "\t(= (fuel-cost ) 34.0)\n",
      "\t(= (weight ?y) 32.0)\n",
      "\t(= (current_load ?z) 125.0)))\n",
      "\t(available ?x)\n",
      "\t(not (clear ?y))\n",
      "\t(at ?x ?p)\n",
      "\t(in ?y ?z)\n",
      "\t(not (at ?y ?p))\n",
      "\t(not (lifting ?x ?y))\n",
      "\t(at ?z ?p))\n",
      "\t:effect (and (not (in ?y ?z))\n",
      "\t\t(lifting ?x ?y)\n",
      "\t\t(not (available ?x)) \n",
      "\t\t(when (and (= (fuel-cost ) 34.0)\n",
      "\t(= (weight ?y) 32.0)\n",
      "\t(= (current_load ?z) 125.0)\n",
      "\t(= (load_limit ?z) 390.0)) (and (assign (current_load ?z) 93.0)))\t\t\n",
      "(when (and (= (current_load ?z) 93.0)\n",
      "\t(= (load_limit ?z) 390.0)\n",
      "\t(= (fuel-cost ) 44.0)\n",
      "\t(= (weight ?y) 4.0)) (and (assign (current_load ?z) 89.0)))\t\t\n",
      "(when (and (= (current_load ?z) 89.0)\n",
      "\t(= (fuel-cost ) 54.0)\n",
      "\t(= (load_limit ?z) 390.0)\n",
      "\t(= (weight ?y) 89.0)) (and (assign (current_load ?z) 0.0))) \n",
      "\t\t))\n",
      "\n",
      ")\n"
     ]
    }
   ],
   "source": [
    "print(learned_model.to_pddl())"
   ]
  }
 ],
 "metadata": {
  "kernelspec": {
   "display_name": "Python 3 (ipykernel)",
   "language": "python",
   "name": "python3"
  },
  "language_info": {
   "codemirror_mode": {
    "name": "ipython",
    "version": 3
   },
   "file_extension": ".py",
   "mimetype": "text/x-python",
   "name": "python",
   "nbconvert_exporter": "python",
   "pygments_lexer": "ipython3",
   "version": "3.8.16"
  }
 },
 "nbformat": 4,
 "nbformat_minor": 1
}
